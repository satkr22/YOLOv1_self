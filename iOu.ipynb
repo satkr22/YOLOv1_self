{
 "cells": [
  {
   "cell_type": "code",
   "execution_count": 5,
   "id": "a46c9dcc",
   "metadata": {},
   "outputs": [],
   "source": [
    "import torch"
   ]
  },
  {
   "cell_type": "code",
   "execution_count": null,
   "id": "bcfe6a0f",
   "metadata": {},
   "outputs": [],
   "source": [
    "\"\"\"\n",
    "\n",
    "Calculates intersection over union \n",
    "Parameters: \n",
    "    boxes preds (tensor): Predictions of Bounding Boxes (BATCH SIZE, 4) \n",
    "    boxes labels (tensor): Correct labels of Bounding Boxes (BATCH SIZE, 4) \n",
    "    box_format (str): midpoint/corners, if boxes (x,y,w,h) or (x1,y1,x2,y2) \n",
    "\n",
    "Returns: \n",
    "    tensor: Intersection over union for all examples \n",
    "\n",
    "\"\"\""
   ]
  },
  {
   "cell_type": "code",
   "execution_count": null,
   "id": "113903fb",
   "metadata": {},
   "outputs": [],
   "source": [
    "def intersection_over_union(boxes_pred, boxes_labels, box_format=\"midpoint\"):\n",
    "    # boxes_pred shape is (N, 4) where N is the number of boxes\n",
    "    # boxes_labes(true labels) shape is (N, 4) where N is the number of boxes\n",
    "    # here both passed arguments are \"torch tensor\"\n",
    "\n",
    "    # boxes_pred[..., 0:1] means extracting the first column and from the last dimension\n",
    "\n",
    "    if box_format == \"midpoint\":\n",
    "        # (x, y, w, h) where x any y are mid points(coordinates) of the box and w and h are width and height of the box\n",
    "        box1_x1 = boxes_pred[..., 0:1] - boxes_pred[..., 2:3]/2\n",
    "        box1_y1 = boxes_pred[..., 1:2] - boxes_pred[..., 3:4]/2\n",
    "        box1_x2 = boxes_pred[..., 0:1] + boxes_pred[..., 2:3]/2\n",
    "        box1_y2 = boxes_pred[..., 1:2] + boxes_pred[..., 3:4]/2\n",
    "\n",
    "        box2_x1 = boxes_labels[..., 0:1] - boxes_labels[..., 2:3]/2\n",
    "        box2_y1 = boxes_labels[..., 1:2] - boxes_labels[..., 3:4]/2\n",
    "        box2_x2 = boxes_labels[..., 0:1] + boxes_labels[..., 2:3]/2\n",
    "        box2_y2 = boxes_labels[..., 1:2] + boxes_labels[..., 3:4]/2\n",
    "\n",
    "\n",
    "    elif box_format == \"corners\":\n",
    "        # here corner coordinates are given\n",
    "        box1_x1 = boxes_pred[..., 0:1] # its shape is (N, 1)\n",
    "        box1_y1 = boxes_pred[..., 1:2]\n",
    "        box1_x2 = boxes_pred[..., 2:3]\n",
    "        box1_y2 = boxes_pred[..., 3:4]\n",
    "\n",
    "        box2_x1 = boxes_labels[..., 0:1] # its shape is (N, 1)\n",
    "        box2_y1 = boxes_labels[..., 1:2]\n",
    "        box2_x2 = boxes_labels[..., 2:3]\n",
    "        box2_y2 = boxes_labels[..., 3:4]\n",
    "\n",
    "    # corner coordinates of intersection area\n",
    "    x1 = torch.max(box1_x1, box2_x1)\n",
    "    y1 = torch.max(box1_y1, box2_y1)\n",
    "\n",
    "    x2 = torch.min(box1_x2, box2_x2)\n",
    "    y2 = torch.min(box1_y2, box2_y2)\n",
    "\n",
    "    # calculating intersection area\n",
    "\n",
    "    # clamp(min=0) in pytorch makes all negative values as 0\n",
    "    # here its is used for the edge cases where boxes do not intersect \n",
    "    intersection = (x2 - x1).clamp(0) * (y2 - y1).clamp(0)\n",
    "\n",
    "    box1_area = abs((box1_x2 - box1_x1) * (box1_y2 - box1_y1))\n",
    "    box2_area = abs((box2_x2 - box2_x1) * (box2_y2 - box2_y1))\n",
    "\n",
    "    iOu = intersection / (box1_area + box2_area - intersection + 1e-6)\n",
    "    # 1e-6 is for numerical stability\n",
    "\n",
    "    return iOu\n",
    "\n",
    "\n",
    "\n"
   ]
  },
  {
   "cell_type": "code",
   "execution_count": null,
   "id": "5a33a044",
   "metadata": {},
   "outputs": [],
   "source": []
  }
 ],
 "metadata": {
  "kernelspec": {
   "display_name": "env",
   "language": "python",
   "name": "python3"
  },
  "language_info": {
   "codemirror_mode": {
    "name": "ipython",
    "version": 3
   },
   "file_extension": ".py",
   "mimetype": "text/x-python",
   "name": "python",
   "nbconvert_exporter": "python",
   "pygments_lexer": "ipython3",
   "version": "3.12.3"
  }
 },
 "nbformat": 4,
 "nbformat_minor": 5
}
