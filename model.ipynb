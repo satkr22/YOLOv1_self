{
 "cells": [
  {
   "cell_type": "code",
   "execution_count": 11,
   "id": "d8a8b499",
   "metadata": {},
   "outputs": [
    {
     "name": "stdout",
     "output_type": "stream",
     "text": [
      "Using device: cuda\n",
      "GPU Name: NVIDIA GeForce RTX 4050 Laptop GPU\n"
     ]
    }
   ],
   "source": [
    "import torch\n",
    "\n",
    "device = torch.device(\"cuda\" if torch.cuda.is_available() else \"cpu\")\n",
    "print(\"Using device:\", device)\n",
    "print(\"GPU Name:\", torch.cuda.get_device_name(0))"
   ]
  },
  {
   "cell_type": "code",
   "execution_count": 12,
   "id": "1ea20423",
   "metadata": {},
   "outputs": [],
   "source": [
    "import torch.nn as nn"
   ]
  },
  {
   "cell_type": "markdown",
   "id": "ef49de44",
   "metadata": {},
   "source": [
    "# Architectue of the yolov1 for convulation layers\n",
    "![arch](papers/arch.png)"
   ]
  },
  {
   "cell_type": "code",
   "execution_count": 13,
   "id": "409bd9a3",
   "metadata": {},
   "outputs": [],
   "source": [
    "# this is layer arctitecture of the convulation layers of the yolo vwersion 1\n",
    "\n",
    "# each tupe: (size_of_kernel/filters, number of kernels/filters, number of strides, padding size)\n",
    "# \"M\" : means maxpooling layer of size 2x2 with stride 2\n",
    "\n",
    "# inside list: [(), (), n] : meaning apply those tuples conv layers 'n' number of times \n",
    "\n",
    "architecture_config = [\n",
    "    (7, 64, 2, 3),\n",
    "    \"M\",\n",
    "\n",
    "    (3, 192, 1, 1),\n",
    "    \"M\",\n",
    "\n",
    "    (1, 128, 1, 0),\n",
    "    (3, 256, 1, 1),\n",
    "    (1, 256, 1, 0),\n",
    "    (3, 512, 1, 1),\n",
    "    \"M\",\n",
    "\n",
    "    [(1, 256, 1, 0), (3, 512, 1, 1), 4],\n",
    "    (1, 512, 1, 0),\n",
    "    (3, 1024, 1, 1),\n",
    "    \"M\",\n",
    "\n",
    "    [(1, 512, 1, 0), (3, 1024, 1, 1), 2],\n",
    "    (3, 1024, 1, 1),\n",
    "    (3, 1024, 2, 1),\n",
    "\n",
    "    (3, 1024, 1, 1),\n",
    "    (3, 1024, 1, 1),\n",
    "]"
   ]
  },
  {
   "cell_type": "code",
   "execution_count": 14,
   "id": "59cc34d2",
   "metadata": {},
   "outputs": [],
   "source": [
    "class CNNBlock(nn.Module): # inheriting the nn \n",
    "    def __init__(self, in_channels, out_channels, **kwargs):\n",
    "        super(CNNBlock, self).__init__()\n",
    "        self.conv = nn.Conv2d(in_channels, out_channels, bias=False, **kwargs) \n",
    "        # bias=False because we will use batch normalization\n",
    "        self.batchnorm = nn.BatchNorm2d(out_channels)\n",
    "        self.leakyRelu = nn.LeakyReLU(0.1)\n",
    "\n",
    "    def forward(self, x):\n",
    "        return self.leakyRelu(self.batchnorm(self.conv(x)))"
   ]
  },
  {
   "cell_type": "code",
   "execution_count": 15,
   "id": "6f36dc77",
   "metadata": {},
   "outputs": [
    {
     "name": "stdout",
     "output_type": "stream",
     "text": [
      "torch.Size([2, 1470])\n"
     ]
    }
   ],
   "source": [
    "class YoloV1(nn.Module):\n",
    "    def __init__(self, in_channels=3, **kwargs):\n",
    "        super(YoloV1, self).__init__()\n",
    "        self.architecture = architecture_config\n",
    "        self.in_channels = in_channels\n",
    "        self.darknet = self._create_conv_layers(self.architecture)\n",
    "        self.fcs = self._create_fcs(**kwargs)\n",
    "\n",
    "    def forward(self, x):\n",
    "        x = self.darknet(x)\n",
    "        return self.fcs(x)\n",
    "    \n",
    "    def _create_conv_layers(self, architecture):\n",
    "        layers = []\n",
    "        in_channels = self.in_channels\n",
    "\n",
    "        for x in architecture:\n",
    "            if type(x) == tuple:\n",
    "                layers += [\n",
    "                            CNNBlock(in_channels, x[1], kernel_size=x[0], stride=x[2], padding=x[3],)\n",
    "                        ]\n",
    "                in_channels = x[1]\n",
    "                \n",
    "            elif type(x) == str:\n",
    "                layers += [\n",
    "                            nn.MaxPool2d(kernel_size=(2, 2), stride=(2, 2))\n",
    "                        ]\n",
    "            \n",
    "            elif type(x) == list:\n",
    "                conv1 = x[0] # Tuple\n",
    "                conv2 = x[1] # Tuple\n",
    "                num_repeats = x[2] # Interger\n",
    "\n",
    "                for _ in range(num_repeats):\n",
    "                    layers += [\n",
    "                                CNNBlock(in_channels, conv1[1], kernel_size=conv1[0], stride=conv1[2], padding=conv1[3])\n",
    "                            ]\n",
    "                    layers += [\n",
    "                                CNNBlock(conv1[1], conv2[1], kernel_size=conv2[0], stride=conv2[2], padding=conv2[3])\n",
    "                            ]\n",
    "                    \n",
    "                    in_channels = conv2[1]\n",
    "\n",
    "        return nn.Sequential(*layers)\n",
    "    \n",
    "    def _create_fcs(self, split_size, num_boxes, num_classes):\n",
    "        S, B, C = split_size, num_boxes, num_classes\n",
    "        return nn.Sequential(\n",
    "                                nn.Flatten(start_dim=1),\n",
    "                                nn.Linear(1024 * S * S, 496), # Original Paper its 4096 (too much VRAM required)\n",
    "                                nn.Dropout(0.0), \n",
    "                                nn.LeakyReLU(0.1),\n",
    "                                nn.Linear(496, S * S * (C + B * 5)), # (S * S * 30) C+B*5 = 30\n",
    "                            )\n",
    "\n",
    "\n",
    "def test(S=7, B=2, C=20):\n",
    "        model = YoloV1(split_size=S, num_boxes=B, num_classes=C)\n",
    "        x = torch.randn((2, 3, 448, 448))\n",
    "        print(model(x).shape)\n",
    "\n",
    "test()"
   ]
  },
  {
   "cell_type": "code",
   "execution_count": null,
   "id": "acef5657",
   "metadata": {},
   "outputs": [],
   "source": []
  }
 ],
 "metadata": {
  "kernelspec": {
   "display_name": "env",
   "language": "python",
   "name": "python3"
  },
  "language_info": {
   "codemirror_mode": {
    "name": "ipython",
    "version": 3
   },
   "file_extension": ".py",
   "mimetype": "text/x-python",
   "name": "python",
   "nbconvert_exporter": "python",
   "pygments_lexer": "ipython3",
   "version": "3.12.3"
  }
 },
 "nbformat": 4,
 "nbformat_minor": 5
}
