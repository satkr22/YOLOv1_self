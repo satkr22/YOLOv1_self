{
 "cells": [
  {
   "cell_type": "code",
   "execution_count": 1,
   "id": "36004ec3",
   "metadata": {},
   "outputs": [],
   "source": [
    "import torch\n",
    "from iou import intersection_over_union"
   ]
  },
  {
   "cell_type": "code",
   "execution_count": null,
   "id": "9b739569",
   "metadata": {},
   "outputs": [],
   "source": [
    "# Function for Non-Max Suppression\n",
    "# this is used for finding the most optimal bounding box for each class in images\n",
    "\n",
    "\"\"\"\n",
    "Parameters:\n",
    "    bboxes(list): lsit of bounding boxes as [[1, 0.9, x1, y1, x2, y2], [\"], ...] \n",
    "    where 1: class of the object around whcih bounding box is there\n",
    "        0.9: probability of how accurate that bounding box for the object\n",
    "        rest four the corner points of the bounding box\n",
    "\n",
    "    iou_threshold(range[0-1]): iou threshold hyperparameter\n",
    "     threshold : threshold for the probability of bounding boxes to keep \n",
    "     box_format: corners/midpoint\n",
    "\n",
    "\"\"\"\n",
    "\n",
    "def nms(bboxes, iou_threshold, threshold, box_format=\"corners\"):\n",
    "\n",
    "    # bboxes = [[1, 0.9, x1, y1, x2, y2], [\"], ...]\n",
    "\n",
    "    assert type(bboxes) == list # bboxes type must be the list otherwise ASSERTION error is thrown\n",
    "\n",
    "    # keeping the only bounding boxes in bboxes which meet the threshold criteria\n",
    "    bboxes = [box for box in bboxes if box[1] > threshold] \n",
    "\n",
    "    # sorting the bboxes as per their probability in descending order\n",
    "    bboxes = sorted(bboxes, key=lambda x: x[1], reverse=True)\n",
    "\n",
    "    # list to store bounding boxes after non-max suppression\n",
    "    bboxes_after_nms = []\n",
    "\n",
    "    while bboxes:\n",
    "        chosen_box = bboxes.pop(0) # choosing the first bonding box\n",
    "\n",
    "        # this is list comprehension\n",
    "        bboxes = [\n",
    "                    box for box in bboxes \n",
    "                    if box[0] != chosen_box[0] \n",
    "                    or intersection_over_union(\n",
    "                        torch.tensor(chosen_box[2:]), \n",
    "                        torch.tensor(box[2:]),\n",
    "                        box_format=box_format\n",
    "                    ) < iou_threshold\n",
    "                ]\n",
    "        \n",
    "        bboxes_after_nms.append(chosen_box)\n",
    "\n",
    "    return bboxes_after_nms"
   ]
  },
  {
   "cell_type": "code",
   "execution_count": null,
   "id": "52ce8b75",
   "metadata": {},
   "outputs": [],
   "source": []
  }
 ],
 "metadata": {
  "kernelspec": {
   "display_name": "env",
   "language": "python",
   "name": "python3"
  },
  "language_info": {
   "codemirror_mode": {
    "name": "ipython",
    "version": 3
   },
   "file_extension": ".py",
   "mimetype": "text/x-python",
   "name": "python",
   "nbconvert_exporter": "python",
   "pygments_lexer": "ipython3",
   "version": "3.12.3"
  }
 },
 "nbformat": 4,
 "nbformat_minor": 5
}
